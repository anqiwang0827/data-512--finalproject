{
 "cells": [
  {
   "cell_type": "markdown",
   "metadata": {},
   "source": [
    "# Wage Gap Analysis\n",
    "Angel Wang"
   ]
  },
  {
   "cell_type": "markdown",
   "metadata": {},
   "source": [
    "## Statement of Problem"
   ]
  },
  {
   "cell_type": "markdown",
   "metadata": {},
   "source": [
    "Since last several decades, millions more women have joined the workforce with huge increase in education level. However, the differences in employment distribution of women and men within occupation is still a concern. And \n",
    "Many thinks that there is a significant declines in terms of gender differences in employment distribution. While there are still many thinks that not only some jobs are male-dominated, but also the earning differences between male workers and female workers are giant.\n",
    "\n",
    "Therefore, is there a gender gap at all in the US labor market. Are female workers are paid less? Is the gender discrimination related with specific industries? Can women close the wage gap by choosing different occupations? There are many questions remained for us to examine. And this project weeks to explore occupational differences between sexes and the cause using the data from Bureau of Labor Statistics for all working American citizens. "
   ]
  },
  {
   "cell_type": "markdown",
   "metadata": {},
   "source": [
    "## Objectives"
   ]
  },
  {
   "cell_type": "markdown",
   "metadata": {},
   "source": [
    "1) What occupations are most gender dominated (highest percentage of women and lowest percentage of women)?  \n",
    "2) What occupations have the biggest and smallest pay gap between male and female workers?  \n",
    "3) What is the percentage of female workers in the most paying occupations?  \n",
    "4) What factors determine the wage gap?  \n",
    "5) Propose initiatives to close the wage gap based on insights from analysis."
   ]
  },
  {
   "cell_type": "markdown",
   "metadata": {},
   "source": [
    "## Technical Approach"
   ]
  },
  {
   "cell_type": "markdown",
   "metadata": {},
   "source": [
    "#### Data"
   ]
  },
  {
   "cell_type": "markdown",
   "metadata": {},
   "source": [
    "The dataset used for analysis is the income information for different occupations from Kaggle, retrieved from Bureau of Labor Statistics. It is available here: https://www.kaggle.com/jonavery/incomes-by-career-and-gender/data. \n",
    "The dataset has been downloaded and saved as inc_occ_gender.csv. It has median weekly income for 557 different occupations for male and female workers separately, as well as the count of male and female workers. The data was captured as of January 2015. \n",
    "\n",
    "There are 558 rows and 7 columns with following headers: \n",
    "\n",
    "| Tables Columns | Meaning                                |\n",
    "| -------------- | -------------------------------------- | \n",
    "| Occupation     | Job titles                             | \n",
    "| All_workers    | Number of workers                      | \n",
    "| All_weekly     | Median weekly income                   |  \n",
    "| M_workders     | Number of male workers                 |\n",
    "| M_weekly       | Median weekly income for male workers  |\n",
    "| F_workders     | Number of female workers               |\n",
    "| F_weekly       | Median weekly income for female workers| \n",
    "\n",
    "* All worker numbers are in thousands, and all income is in USD. There are several missing values for median income columns since there is no data available for the income information for those occupations.  \n",
    "* Kaggle data terms and conditions: https://www.kaggle.com/terms  \n",
    "* Bureau of Labor Statistics copyright information of the data:   https://www.bls.gov/opub/#copyright  \n",
    "\n",
    "Here are the first 5 rows of the data (the first row is the data for all occupations):  \n"
   ]
  },
  {
   "cell_type": "code",
   "execution_count": 9,
   "metadata": {},
   "outputs": [
    {
     "data": {
      "text/html": [
       "<div>\n",
       "<style>\n",
       "    .dataframe thead tr:only-child th {\n",
       "        text-align: right;\n",
       "    }\n",
       "\n",
       "    .dataframe thead th {\n",
       "        text-align: left;\n",
       "    }\n",
       "\n",
       "    .dataframe tbody tr th {\n",
       "        vertical-align: top;\n",
       "    }\n",
       "</style>\n",
       "<table border=\"1\" class=\"dataframe\">\n",
       "  <thead>\n",
       "    <tr style=\"text-align: right;\">\n",
       "      <th></th>\n",
       "      <th>Occupation</th>\n",
       "      <th>All_workers</th>\n",
       "      <th>All_weekly</th>\n",
       "      <th>M_workers</th>\n",
       "      <th>M_weekly</th>\n",
       "      <th>F_workers</th>\n",
       "      <th>F_weekly</th>\n",
       "    </tr>\n",
       "  </thead>\n",
       "  <tbody>\n",
       "    <tr>\n",
       "      <th>0</th>\n",
       "      <td>ALL OCCUPATIONS</td>\n",
       "      <td>109080</td>\n",
       "      <td>809</td>\n",
       "      <td>60746</td>\n",
       "      <td>895</td>\n",
       "      <td>48334</td>\n",
       "      <td>726</td>\n",
       "    </tr>\n",
       "    <tr>\n",
       "      <th>1</th>\n",
       "      <td>MANAGEMENT</td>\n",
       "      <td>12480</td>\n",
       "      <td>1351</td>\n",
       "      <td>7332</td>\n",
       "      <td>1486</td>\n",
       "      <td>5147</td>\n",
       "      <td>1139</td>\n",
       "    </tr>\n",
       "    <tr>\n",
       "      <th>2</th>\n",
       "      <td>Chief executives</td>\n",
       "      <td>1046</td>\n",
       "      <td>2041</td>\n",
       "      <td>763</td>\n",
       "      <td>2251</td>\n",
       "      <td>283</td>\n",
       "      <td>1836</td>\n",
       "    </tr>\n",
       "    <tr>\n",
       "      <th>3</th>\n",
       "      <td>General and operations managers</td>\n",
       "      <td>823</td>\n",
       "      <td>1260</td>\n",
       "      <td>621</td>\n",
       "      <td>1347</td>\n",
       "      <td>202</td>\n",
       "      <td>1002</td>\n",
       "    </tr>\n",
       "    <tr>\n",
       "      <th>4</th>\n",
       "      <td>Legislators</td>\n",
       "      <td>8</td>\n",
       "      <td>Na</td>\n",
       "      <td>5</td>\n",
       "      <td>Na</td>\n",
       "      <td>4</td>\n",
       "      <td>Na</td>\n",
       "    </tr>\n",
       "  </tbody>\n",
       "</table>\n",
       "</div>"
      ],
      "text/plain": [
       "                        Occupation  All_workers All_weekly  M_workers  \\\n",
       "0                  ALL OCCUPATIONS       109080        809      60746   \n",
       "1                       MANAGEMENT        12480       1351       7332   \n",
       "2                 Chief executives         1046       2041        763   \n",
       "3  General and operations managers          823       1260        621   \n",
       "4                      Legislators            8         Na          5   \n",
       "\n",
       "  M_weekly  F_workers F_weekly  \n",
       "0      895      48334      726  \n",
       "1     1486       5147     1139  \n",
       "2     2251        283     1836  \n",
       "3     1347        202     1002  \n",
       "4       Na          4       Na  "
      ]
     },
     "execution_count": 9,
     "metadata": {},
     "output_type": "execute_result"
    }
   ],
   "source": [
    "import pandas as pd\n",
    "df = pd.read_csv('inc_occ_gender.csv')\n",
    "df[:5]"
   ]
  },
  {
   "cell_type": "markdown",
   "metadata": {},
   "source": [
    "#### Tools and Approach\n"
   ]
  },
  {
   "cell_type": "markdown",
   "metadata": {},
   "source": [
    "Programming Language: Python  \n",
    "Python packages Needed:   \n",
    "Pandas - Reading and writing data, manipulating missing values and aggregating/transforming data  \n",
    "Numpy - Array indexing and array math  \n",
    "Matplotlib - Plotting  \n",
    "sklearn - Linear Regression to model salary vs fields and gender\n",
    "\n",
    "First step to explore the gender wage gap is to calculate gender ratio for each occupation, wage gap (wage differences) and wage ratio (female wage/male wage) for each occupation between male and female. After calculation, next is to find and plot the occupations with biggest and smallest wage ratio (0-1). The larger the wage ratio is, the lager the wage gap is between female and male workers. When wage ratio is 1, it means female workers make the same as male workers in that field. Then find and plot the occupations with the largest and smallest percentage of female workers. We can compare that those occupations to the highest paid occupations. Depending on the result, it may be also necessary to find out the the percentage of female workers in the top paid occupations to have a full understanding on the relationship among gender, wage and occupations.\n",
    "\n",
    "Last, we want to analyze what is the most significant factor that determines the wage gap between male and female workers. Therefore, we will build a simple linear resgression model to summarize and study relationships between wage gap (dependent variable) and gender + occupation + salary(independent variables).  \n"
   ]
  },
  {
   "cell_type": "markdown",
   "metadata": {},
   "source": [
    "#### Expected Result"
   ]
  },
  {
   "cell_type": "markdown",
   "metadata": {},
   "source": [
    "1) List and plot of 10 occupations that have highest/lowest percentage of female workers  \n",
    "2) List and plot of 10 occupations that have the biggest/smallest wage gap between male and female workers  \n",
    "3) The percentage of female workers in the 10 most paid occupations  \n",
    "4) Regression model for wage gap   \n",
    "5) Reflection of the result"
   ]
  },
  {
   "cell_type": "markdown",
   "metadata": {},
   "source": [
    "## Human-centered Design Considerations "
   ]
  },
  {
   "cell_type": "markdown",
   "metadata": {},
   "source": [
    "Typically, full-time working women are paid about less than men. Now days, women still control jobs like nurses, waitress, administrative assistants, but not highpaid jobs like engineers or technicians. And research has shown that higher education cannot close the wage gap between women and men. The reason behind this situation is Gender discrimination, an important factor contributes to the wage gap. \n",
    "\n",
    "The gender wage gap is also a concept that reflects the consequences of unequal pay and a lack of other work-life supports. Many countries have implemented policies for data reporting to government authorities or publicly for years. Therefore, this project also aims to supports the need of policy change for US policymakers in wage discriminate prevention. In order to close the wage gap, we also need attention from employers and publics besides the policymakers. Employers should be more familiarized with the wage gap from this analysis and start to develop a wage gap reduction plan for workplace. As for public, they also can benefit from more knowledge of wage gap from this analysis and be encouraged to explore more various career options.\n",
    "\n",
    "This is a human-centered reseaarch project for the following reasons:  \n",
    "1) This project concerning closing wage gap aims to solve human-related research questions for human benefits.  \n",
    "2) Data used for this project is human-related (US workers count and median income)\n"
   ]
  },
  {
   "cell_type": "markdown",
   "metadata": {},
   "source": [
    "### Limitation and Future Work"
   ]
  },
  {
   "cell_type": "markdown",
   "metadata": {},
   "source": [
    "1) Besides gender information, we can also include variables like race, religion and geographic information, etc to explore pay discrimination.   \n",
    "2) Data collected for this project is not the most current reflection of US labor market as it was collect in 2015. But same process can be conducted using new data when available.  \n",
    "3) Definition of occupation title may differ for different industries, and this may affect the accuracy of our analysis.  "
   ]
  }
 ],
 "metadata": {
  "kernelspec": {
   "display_name": "Python 3",
   "language": "python",
   "name": "python3"
  },
  "language_info": {
   "codemirror_mode": {
    "name": "ipython",
    "version": 3
   },
   "file_extension": ".py",
   "mimetype": "text/x-python",
   "name": "python",
   "nbconvert_exporter": "python",
   "pygments_lexer": "ipython3",
   "version": "3.6.2"
  }
 },
 "nbformat": 4,
 "nbformat_minor": 2
}
